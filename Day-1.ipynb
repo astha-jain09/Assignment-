{
 "cells": [
  {
   "cell_type": "code",
   "execution_count": 11,
   "metadata": {},
   "outputs": [],
   "source": [
    "#Q-1\n",
    "def jumble(): \n",
    "    list=[\"RANIBOW\",\"RAINBOW\",\"BOWRANI\" ,\"ROBWANI\"]\n",
    "    random_word = random.sample(word, len(word))\n",
    "    jumbled = ''.join(random_word)\n",
    "    jumble(\"OBANWRI\")\n",
    "    "
   ]
  },
  {
   "cell_type": "code",
   "execution_count": 4,
   "metadata": {},
   "outputs": [
    {
     "name": "stdout",
     "output_type": "stream",
     "text": [
      "LETS UPGRADE\n"
     ]
    }
   ],
   "source": [
    "#Q-2\n",
    "x= \"lets upgrade\"\n",
    "y=x.upper()\n",
    "print(y)\n"
   ]
  },
  {
   "cell_type": "code",
   "execution_count": 10,
   "metadata": {},
   "outputs": [
    {
     "name": "stdout",
     "output_type": "stream",
     "text": [
      "Enter Cost price\n",
      "20\n",
      "selling price\n",
      "10\n",
      "loss\n"
     ]
    }
   ],
   "source": [
    "#Q-3\n",
    "print(\"Enter Cost price\")\n",
    "x=(input())\n",
    "print(\"selling price\")\n",
    "y=(input())\n",
    "if x<y:\n",
    "    print(\"profit\")\n",
    "elif x==y:\n",
    "    print(\"Neither\")\n",
    "else:\n",
    "    print(\"loss\")\n",
    " "
   ]
  },
  {
   "cell_type": "code",
   "execution_count": null,
   "metadata": {},
   "outputs": [],
   "source": [
    "#Q-4\n",
    "print(\"enter amount in euros\")\n",
    "x=(int(input()))\n",
    "y=80\n",
    "z=x*y\n",
    "print(z)"
   ]
  }
 ],
 "metadata": {
  "kernelspec": {
   "display_name": "Python 3",
   "language": "python",
   "name": "python3"
  }
 },
 "nbformat": 4,
 "nbformat_minor": 2
}
